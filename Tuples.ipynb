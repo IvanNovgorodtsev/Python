{
 "cells": [
  {
   "cell_type": "code",
   "execution_count": 6,
   "metadata": {},
   "outputs": [
    {
     "name": "stdout",
     "output_type": "stream",
     "text": [
      "3\n",
      "('one', 2)\n",
      "one\n",
      "2\n"
     ]
    }
   ],
   "source": [
    "# creating a tuple with mixed types\n",
    "t= (1,2,3)\n",
    "print(len(t))\n",
    "t1=('one',2)\n",
    "print(t1)\n",
    "print(t1[0]) #indexing\n",
    "print(t1[-1]) #slicing"
   ]
  },
  {
   "cell_type": "code",
   "execution_count": 10,
   "metadata": {},
   "outputs": [
    {
     "name": "stdout",
     "output_type": "stream",
     "text": [
      "0\n",
      "1\n"
     ]
    }
   ],
   "source": [
    "# basic tuple methods\n",
    "print(t1.index('one')) # returning index of element in tuple\n",
    "print(t1.count('one')) # counting number of elements in tuple\n",
    "# TUPLES ARE IMMUTABLE\n",
    "# t[0]='change'\n",
    "# t.append('nope')"
   ]
  },
  {
   "cell_type": "code",
   "execution_count": null,
   "metadata": {
    "collapsed": true
   },
   "outputs": [],
   "source": []
  }
 ],
 "metadata": {
  "kernelspec": {
   "display_name": "Python 2",
   "language": "python",
   "name": "python2"
  },
  "language_info": {
   "codemirror_mode": {
    "name": "ipython",
    "version": 2
   },
   "file_extension": ".py",
   "mimetype": "text/x-python",
   "name": "python",
   "nbconvert_exporter": "python",
   "pygments_lexer": "ipython2",
   "version": "2.7.14"
  }
 },
 "nbformat": 4,
 "nbformat_minor": 2
}
