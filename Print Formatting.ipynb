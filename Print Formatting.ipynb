{
 "cells": [
  {
   "cell_type": "code",
   "execution_count": 2,
   "metadata": {},
   "outputs": [
    {
     "name": "stdout",
     "output_type": "stream",
     "text": [
      "Place another string with a mod and s: STRING\n"
     ]
    }
   ],
   "source": [
    "#using the %s to format strings into your print statements\n",
    "s='STRING'\n",
    "print 'Place another string with a mod and s: %s' %(s)"
   ]
  },
  {
   "cell_type": "code",
   "execution_count": 17,
   "metadata": {},
   "outputs": [
    {
     "name": "stdout",
     "output_type": "stream",
     "text": [
      "Floating point numbers: 13.14\n",
      "Floating point numbers: 13\n",
      "Floating point numbers: 13.14400\n",
      "Floating point numbers:      13.14\n",
      "Floating point numbers:                     13.14\n"
     ]
    }
   ],
   "source": [
    "print 'Floating point numbers: %1.2f' %(13.144)\n",
    "print 'Floating point numbers: %1.0f' %(13.144)\n",
    "print 'Floating point numbers: %1.5f' %(13.144)\n",
    "print 'Floating point numbers: %10.2f'%(13.144)\n",
    "print 'Floating point numbers: %25.2f'%(13.144)"
   ]
  },
  {
   "cell_type": "code",
   "execution_count": 20,
   "metadata": {},
   "outputs": [
    {
     "name": "stdout",
     "output_type": "stream",
     "text": [
      "Here is a number: 123.1. Here is a string: hi\n",
      "Here is a number: 123.1. Here is a string: 'hi'\n"
     ]
    }
   ],
   "source": [
    "# Conversion Format methods\n",
    "print 'Here is a number: %s. Here is a string: %s' %(123.1,'hi')\n",
    "print 'Here is a number: %r. Here is a string: %r' %(123.1,'hi')"
   ]
  },
  {
   "cell_type": "code",
   "execution_count": 21,
   "metadata": {},
   "outputs": [
    {
     "name": "stdout",
     "output_type": "stream",
     "text": [
      "First: hi!, Second: 3.14, Third: 22\n"
     ]
    }
   ],
   "source": [
    "#Multiple Formatting\n",
    "print 'First: %s, Second: %1.2f, Third: %r' %('hi!',3.14,22)"
   ]
  },
  {
   "cell_type": "code",
   "execution_count": 26,
   "metadata": {},
   "outputs": [
    {
     "name": "stdout",
     "output_type": "stream",
     "text": [
      "This is a string with an insert\n",
      "One: Hi!, Two: Hi!, Three: Hi!\n",
      "Object 1: 1, Object 2: two, Object 3: 12.3\n"
     ]
    }
   ],
   "source": [
    "#using the string.format() method\n",
    "print 'This is a string with an {p}'.format(p='insert')\n",
    "#multiple times\n",
    "print 'One: {p}, Two: {p}, Three: {p}'.format(p='Hi!')\n",
    "#several objects\n",
    "print 'Object 1: {a}, Object 2: {b}, Object 3: {c}'.format(a=1,b='two',c=12.3)"
   ]
  },
  {
   "cell_type": "code",
   "execution_count": 27,
   "metadata": {},
   "outputs": [
    {
     "name": "stdout",
     "output_type": "stream",
     "text": [
      "Place something here: o1, and here o2\n"
     ]
    }
   ],
   "source": [
    "print 'Place something here: %s, and here {p}'.format(p='o2') %('o1')"
   ]
  },
  {
   "cell_type": "code",
   "execution_count": null,
   "metadata": {
    "collapsed": true
   },
   "outputs": [],
   "source": []
  }
 ],
 "metadata": {
  "kernelspec": {
   "display_name": "Python 2",
   "language": "python",
   "name": "python2"
  },
  "language_info": {
   "codemirror_mode": {
    "name": "ipython",
    "version": 2
   },
   "file_extension": ".py",
   "mimetype": "text/x-python",
   "name": "python",
   "nbconvert_exporter": "python",
   "pygments_lexer": "ipython2",
   "version": "2.7.14"
  }
 },
 "nbformat": 4,
 "nbformat_minor": 2
}
