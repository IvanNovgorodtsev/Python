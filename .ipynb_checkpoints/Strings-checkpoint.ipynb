{
 "cells": [
  {
   "cell_type": "code",
   "execution_count": 2,
   "metadata": {},
   "outputs": [
    {
     "data": {
      "text/plain": [
       "'String built with double quotes'"
      ]
     },
     "execution_count": 2,
     "metadata": {},
     "output_type": "execute_result"
    }
   ],
   "source": [
    "#c the buffor outputs only one statement\n",
    "'hello'\n",
    "'This is also a string'\n",
    "\"String built with double quotes\"\n"
   ]
  },
  {
   "cell_type": "code",
   "execution_count": 7,
   "metadata": {},
   "outputs": [
    {
     "name": "stdout",
     "output_type": "stream",
     "text": [
      "Hello World 1\n",
      "Hello World 2\n",
      "Use \n",
      " to print a new line\n",
      "\n",
      "\n",
      "anything\n"
     ]
    }
   ],
   "source": [
    "print 'Hello World 1'\n",
    "print 'Hello World 2'\n",
    "print 'Use \\n to print a new line'\n",
    "print '\\n' # print '\\n' -> cout<<endl || cout<<\"\\n\";\n",
    "print 'anything'"
   ]
  },
  {
   "cell_type": "markdown",
   "metadata": {},
   "source": [
    "Something to note. In Python 3, print is a function, not a statement. So you would print statements like this: print('Hello World')\n",
    "\n",
    "If you want to use this functionality in Python2, you can import form the future module.\n",
    "\n",
    "A word of caution, after importing this you won't be able to choose the print statement method anymore. So pick whichever one you prefer depending on your Python installation and continue on with it.\n",
    "\n",
    "from __future__ import print_function\n",
    "print('Hello World')\n"
   ]
  },
  {
   "cell_type": "code",
   "execution_count": 9,
   "metadata": {},
   "outputs": [
    {
     "data": {
      "text/plain": [
       "11"
      ]
     },
     "execution_count": 9,
     "metadata": {},
     "output_type": "execute_result"
    }
   ],
   "source": [
    "len('Hello World')"
   ]
  },
  {
   "cell_type": "code",
   "execution_count": 10,
   "metadata": {},
   "outputs": [
    {
     "name": "stdout",
     "output_type": "stream",
     "text": [
      "Hello World\n"
     ]
    }
   ],
   "source": [
    "s='Hello World'\n",
    "print(s)"
   ]
  },
  {
   "cell_type": "code",
   "execution_count": 11,
   "metadata": {},
   "outputs": [
    {
     "data": {
      "text/plain": [
       "'H'"
      ]
     },
     "execution_count": 11,
     "metadata": {},
     "output_type": "execute_result"
    }
   ],
   "source": [
    "s[0]"
   ]
  },
  {
   "cell_type": "code",
   "execution_count": 22,
   "metadata": {},
   "outputs": [
    {
     "name": "stdout",
     "output_type": "stream",
     "text": [
      "Hello World\n",
      "ello World\n",
      "Hel\n",
      "Hello Worl\n",
      "Hello World\n",
      "\n",
      "\n",
      "d\n",
      "Hello Worl\n"
     ]
    }
   ],
   "source": [
    "print(s[0:])\n",
    "print(s[1:])\n",
    "print(s[:3])\n",
    "print(s[:len(s)-1])\n",
    "print(s[:])\n",
    "\n",
    "print('\\n')\n",
    "\n",
    "print(s[-1])\n",
    "print(s[:-1])"
   ]
  },
  {
   "cell_type": "code",
   "execution_count": 25,
   "metadata": {},
   "outputs": [
    {
     "name": "stdout",
     "output_type": "stream",
     "text": [
      "Hello World\n",
      "HloWrd\n",
      "dlroW olleH\n"
     ]
    }
   ],
   "source": [
    "# Steps of string in python\n",
    "print(s[::1])\n",
    "print(s[::2])\n",
    "print(s[::-1])"
   ]
  },
  {
   "cell_type": "code",
   "execution_count": 36,
   "metadata": {
    "scrolled": true
   },
   "outputs": [
    {
     "name": "stdout",
     "output_type": "stream",
     "text": [
      "HELLO WORLD\n",
      "hello world\n",
      "['Hello', 'World']\n",
      "['Hello ', 'orld']\n",
      "['He', '', 'o Wor', 'd']\n"
     ]
    }
   ],
   "source": [
    "print(s.upper())\n",
    "print(s.lower())\n",
    "print(s.split())\n",
    "print(s.split('W'))\n",
    "print(s.split(s[2]))\n"
   ]
  },
  {
   "cell_type": "code",
   "execution_count": 39,
   "metadata": {},
   "outputs": [
    {
     "data": {
      "text/plain": [
       "'Insert another string with curly bracets: The inserted message'"
      ]
     },
     "execution_count": 39,
     "metadata": {},
     "output_type": "execute_result"
    }
   ],
   "source": [
    "'Insert another string with curly bracets: {}'.format('The inserted message')"
   ]
  },
  {
   "cell_type": "code",
   "execution_count": 41,
   "metadata": {},
   "outputs": [
    {
     "data": {
      "text/plain": [
       "'Kappa: Keepo'"
      ]
     },
     "execution_count": 41,
     "metadata": {},
     "output_type": "execute_result"
    }
   ],
   "source": [
    "'Kappa: {}'.format('Keepo')"
   ]
  },
  {
   "cell_type": "code",
   "execution_count": 45,
   "metadata": {},
   "outputs": [
    {
     "name": "stdout",
     "output_type": "stream",
     "text": [
      "z\n",
      "zzzzzzzzzz\n",
      "zzzzzzzzzzzzzzzzzzzz\n"
     ]
    }
   ],
   "source": [
    "letter = 'z'\n",
    "print(letter)\n",
    "print(letter*10)\n",
    "letter=letter+'z'\n",
    "print(letter*10)"
   ]
  },
  {
   "cell_type": "code",
   "execution_count": null,
   "metadata": {
    "collapsed": true
   },
   "outputs": [],
   "source": []
  }
 ],
 "metadata": {
  "kernelspec": {
   "display_name": "Python 2",
   "language": "python",
   "name": "python2"
  },
  "language_info": {
   "codemirror_mode": {
    "name": "ipython",
    "version": 2
   },
   "file_extension": ".py",
   "mimetype": "text/x-python",
   "name": "python",
   "nbconvert_exporter": "python",
   "pygments_lexer": "ipython2",
   "version": "2.7.14"
  }
 },
 "nbformat": 4,
 "nbformat_minor": 2
}
